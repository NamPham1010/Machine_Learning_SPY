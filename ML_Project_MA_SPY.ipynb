{
  "nbformat": 4,
  "nbformat_minor": 0,
  "metadata": {
    "colab": {
      "provenance": [],
      "authorship_tag": "ABX9TyPQlQDq4Qy8XuQb8a48Q4HQ",
      "include_colab_link": true
    },
    "kernelspec": {
      "name": "python3",
      "display_name": "Python 3"
    },
    "language_info": {
      "name": "python"
    }
  },
  "cells": [
    {
      "cell_type": "markdown",
      "metadata": {
        "id": "view-in-github",
        "colab_type": "text"
      },
      "source": [
        "<a href=\"https://colab.research.google.com/github/NamPham1010/Machine_Learning_SPY/blob/main/ML_Project_MA_SPY.ipynb\" target=\"_parent\"><img src=\"https://colab.research.google.com/assets/colab-badge.svg\" alt=\"Open In Colab\"/></a>"
      ]
    },
    {
      "cell_type": "code",
      "execution_count": 1,
      "metadata": {
        "id": "SBZJl0JAO9KN"
      },
      "outputs": [],
      "source": [
        "import numpy as np\n",
        "import pandas as pd\n",
        "import matplotlib.pyplot as plt\n",
        "import seaborn as sns\n",
        "import yfinance as yf\n",
        "from sklearn.model_selection import train_test_split\n",
        "from sklearn.preprocessing import StandardScaler\n",
        "from sklearn.neighbors import KNeighborsClassifier\n",
        "from sklearn.ensemble import RandomForestClassifier\n",
        "from sklearn.ensemble import GradientBoostingClassifier\n",
        "from sklearn.preprocessing import MinMaxScaler\n",
        "from sklearn.svm import SVC\n",
        "from xgboost import XGBClassifier\n",
        "from sklearn.metrics import accuracy_score, confusion_matrix, classification_report"
      ]
    },
    {
      "cell_type": "code",
      "source": [
        "pip install xgboost"
      ],
      "metadata": {
        "colab": {
          "base_uri": "https://localhost:8080/"
        },
        "id": "6mYqAmka-KyG",
        "outputId": "0f226094-b607-4a6d-e575-25f8821f50d6"
      },
      "execution_count": 2,
      "outputs": [
        {
          "output_type": "stream",
          "name": "stdout",
          "text": [
            "Requirement already satisfied: xgboost in /usr/local/lib/python3.10/dist-packages (2.0.0)\n",
            "Requirement already satisfied: numpy in /usr/local/lib/python3.10/dist-packages (from xgboost) (1.23.5)\n",
            "Requirement already satisfied: scipy in /usr/local/lib/python3.10/dist-packages (from xgboost) (1.11.3)\n"
          ]
        }
      ]
    },
    {
      "cell_type": "markdown",
      "source": [
        "### Dataset\n",
        "SPY historical dataset from yahoo finance"
      ],
      "metadata": {
        "id": "lxUdDBOD7-kP"
      }
    },
    {
      "cell_type": "code",
      "source": [
        "# Downloading SPY historical price data\n",
        "spy = yf.Ticker(\"SPY\")\n",
        "spy_price = yf.download(\"SPY\", start = \"2015-01-01\", end = \"2022-12-31\")"
      ],
      "metadata": {
        "id": "fS_1VdtUSxUz",
        "colab": {
          "base_uri": "https://localhost:8080/"
        },
        "outputId": "c3d443c9-b355-42ab-93ae-3ae24bcc2c34"
      },
      "execution_count": 3,
      "outputs": [
        {
          "output_type": "stream",
          "name": "stdout",
          "text": [
            "\r[*********************100%%**********************]  1 of 1 completed\n"
          ]
        }
      ]
    },
    {
      "cell_type": "code",
      "source": [
        "# Loading data into dataframe\n",
        "df = pd.DataFrame(spy_price)\n",
        "df.head()"
      ],
      "metadata": {
        "colab": {
          "base_uri": "https://localhost:8080/",
          "height": 238
        },
        "id": "uShIyxg0V-Fv",
        "outputId": "0acfac4e-29aa-43d8-a84f-018b71c6aa30"
      },
      "execution_count": 4,
      "outputs": [
        {
          "output_type": "execute_result",
          "data": {
            "text/plain": [
              "                  Open        High         Low       Close   Adj Close  \\\n",
              "Date                                                                     \n",
              "2015-01-02  206.380005  206.880005  204.179993  205.429993  175.515488   \n",
              "2015-01-05  204.169998  204.369995  201.350006  201.720001  172.345779   \n",
              "2015-01-06  202.089996  202.720001  198.860001  199.820007  170.722427   \n",
              "2015-01-07  201.419998  202.720001  200.880005  202.309998  172.849808   \n",
              "2015-01-08  204.009995  206.160004  203.990005  205.899994  175.917053   \n",
              "\n",
              "               Volume  \n",
              "Date                   \n",
              "2015-01-02  121465900  \n",
              "2015-01-05  169632600  \n",
              "2015-01-06  209151400  \n",
              "2015-01-07  125346700  \n",
              "2015-01-08  147217800  "
            ],
            "text/html": [
              "\n",
              "  <div id=\"df-152fdcf2-1d30-42a7-8785-3e591e4b80d6\" class=\"colab-df-container\">\n",
              "    <div>\n",
              "<style scoped>\n",
              "    .dataframe tbody tr th:only-of-type {\n",
              "        vertical-align: middle;\n",
              "    }\n",
              "\n",
              "    .dataframe tbody tr th {\n",
              "        vertical-align: top;\n",
              "    }\n",
              "\n",
              "    .dataframe thead th {\n",
              "        text-align: right;\n",
              "    }\n",
              "</style>\n",
              "<table border=\"1\" class=\"dataframe\">\n",
              "  <thead>\n",
              "    <tr style=\"text-align: right;\">\n",
              "      <th></th>\n",
              "      <th>Open</th>\n",
              "      <th>High</th>\n",
              "      <th>Low</th>\n",
              "      <th>Close</th>\n",
              "      <th>Adj Close</th>\n",
              "      <th>Volume</th>\n",
              "    </tr>\n",
              "    <tr>\n",
              "      <th>Date</th>\n",
              "      <th></th>\n",
              "      <th></th>\n",
              "      <th></th>\n",
              "      <th></th>\n",
              "      <th></th>\n",
              "      <th></th>\n",
              "    </tr>\n",
              "  </thead>\n",
              "  <tbody>\n",
              "    <tr>\n",
              "      <th>2015-01-02</th>\n",
              "      <td>206.380005</td>\n",
              "      <td>206.880005</td>\n",
              "      <td>204.179993</td>\n",
              "      <td>205.429993</td>\n",
              "      <td>175.515488</td>\n",
              "      <td>121465900</td>\n",
              "    </tr>\n",
              "    <tr>\n",
              "      <th>2015-01-05</th>\n",
              "      <td>204.169998</td>\n",
              "      <td>204.369995</td>\n",
              "      <td>201.350006</td>\n",
              "      <td>201.720001</td>\n",
              "      <td>172.345779</td>\n",
              "      <td>169632600</td>\n",
              "    </tr>\n",
              "    <tr>\n",
              "      <th>2015-01-06</th>\n",
              "      <td>202.089996</td>\n",
              "      <td>202.720001</td>\n",
              "      <td>198.860001</td>\n",
              "      <td>199.820007</td>\n",
              "      <td>170.722427</td>\n",
              "      <td>209151400</td>\n",
              "    </tr>\n",
              "    <tr>\n",
              "      <th>2015-01-07</th>\n",
              "      <td>201.419998</td>\n",
              "      <td>202.720001</td>\n",
              "      <td>200.880005</td>\n",
              "      <td>202.309998</td>\n",
              "      <td>172.849808</td>\n",
              "      <td>125346700</td>\n",
              "    </tr>\n",
              "    <tr>\n",
              "      <th>2015-01-08</th>\n",
              "      <td>204.009995</td>\n",
              "      <td>206.160004</td>\n",
              "      <td>203.990005</td>\n",
              "      <td>205.899994</td>\n",
              "      <td>175.917053</td>\n",
              "      <td>147217800</td>\n",
              "    </tr>\n",
              "  </tbody>\n",
              "</table>\n",
              "</div>\n",
              "    <div class=\"colab-df-buttons\">\n",
              "\n",
              "  <div class=\"colab-df-container\">\n",
              "    <button class=\"colab-df-convert\" onclick=\"convertToInteractive('df-152fdcf2-1d30-42a7-8785-3e591e4b80d6')\"\n",
              "            title=\"Convert this dataframe to an interactive table.\"\n",
              "            style=\"display:none;\">\n",
              "\n",
              "  <svg xmlns=\"http://www.w3.org/2000/svg\" height=\"24px\" viewBox=\"0 -960 960 960\">\n",
              "    <path d=\"M120-120v-720h720v720H120Zm60-500h600v-160H180v160Zm220 220h160v-160H400v160Zm0 220h160v-160H400v160ZM180-400h160v-160H180v160Zm440 0h160v-160H620v160ZM180-180h160v-160H180v160Zm440 0h160v-160H620v160Z\"/>\n",
              "  </svg>\n",
              "    </button>\n",
              "\n",
              "  <style>\n",
              "    .colab-df-container {\n",
              "      display:flex;\n",
              "      gap: 12px;\n",
              "    }\n",
              "\n",
              "    .colab-df-convert {\n",
              "      background-color: #E8F0FE;\n",
              "      border: none;\n",
              "      border-radius: 50%;\n",
              "      cursor: pointer;\n",
              "      display: none;\n",
              "      fill: #1967D2;\n",
              "      height: 32px;\n",
              "      padding: 0 0 0 0;\n",
              "      width: 32px;\n",
              "    }\n",
              "\n",
              "    .colab-df-convert:hover {\n",
              "      background-color: #E2EBFA;\n",
              "      box-shadow: 0px 1px 2px rgba(60, 64, 67, 0.3), 0px 1px 3px 1px rgba(60, 64, 67, 0.15);\n",
              "      fill: #174EA6;\n",
              "    }\n",
              "\n",
              "    .colab-df-buttons div {\n",
              "      margin-bottom: 4px;\n",
              "    }\n",
              "\n",
              "    [theme=dark] .colab-df-convert {\n",
              "      background-color: #3B4455;\n",
              "      fill: #D2E3FC;\n",
              "    }\n",
              "\n",
              "    [theme=dark] .colab-df-convert:hover {\n",
              "      background-color: #434B5C;\n",
              "      box-shadow: 0px 1px 3px 1px rgba(0, 0, 0, 0.15);\n",
              "      filter: drop-shadow(0px 1px 2px rgba(0, 0, 0, 0.3));\n",
              "      fill: #FFFFFF;\n",
              "    }\n",
              "  </style>\n",
              "\n",
              "    <script>\n",
              "      const buttonEl =\n",
              "        document.querySelector('#df-152fdcf2-1d30-42a7-8785-3e591e4b80d6 button.colab-df-convert');\n",
              "      buttonEl.style.display =\n",
              "        google.colab.kernel.accessAllowed ? 'block' : 'none';\n",
              "\n",
              "      async function convertToInteractive(key) {\n",
              "        const element = document.querySelector('#df-152fdcf2-1d30-42a7-8785-3e591e4b80d6');\n",
              "        const dataTable =\n",
              "          await google.colab.kernel.invokeFunction('convertToInteractive',\n",
              "                                                    [key], {});\n",
              "        if (!dataTable) return;\n",
              "\n",
              "        const docLinkHtml = 'Like what you see? Visit the ' +\n",
              "          '<a target=\"_blank\" href=https://colab.research.google.com/notebooks/data_table.ipynb>data table notebook</a>'\n",
              "          + ' to learn more about interactive tables.';\n",
              "        element.innerHTML = '';\n",
              "        dataTable['output_type'] = 'display_data';\n",
              "        await google.colab.output.renderOutput(dataTable, element);\n",
              "        const docLink = document.createElement('div');\n",
              "        docLink.innerHTML = docLinkHtml;\n",
              "        element.appendChild(docLink);\n",
              "      }\n",
              "    </script>\n",
              "  </div>\n",
              "\n",
              "\n",
              "<div id=\"df-d101f36d-ad67-41fe-8c27-3823cddfb09b\">\n",
              "  <button class=\"colab-df-quickchart\" onclick=\"quickchart('df-d101f36d-ad67-41fe-8c27-3823cddfb09b')\"\n",
              "            title=\"Suggest charts.\"\n",
              "            style=\"display:none;\">\n",
              "\n",
              "<svg xmlns=\"http://www.w3.org/2000/svg\" height=\"24px\"viewBox=\"0 0 24 24\"\n",
              "     width=\"24px\">\n",
              "    <g>\n",
              "        <path d=\"M19 3H5c-1.1 0-2 .9-2 2v14c0 1.1.9 2 2 2h14c1.1 0 2-.9 2-2V5c0-1.1-.9-2-2-2zM9 17H7v-7h2v7zm4 0h-2V7h2v10zm4 0h-2v-4h2v4z\"/>\n",
              "    </g>\n",
              "</svg>\n",
              "  </button>\n",
              "\n",
              "<style>\n",
              "  .colab-df-quickchart {\n",
              "      --bg-color: #E8F0FE;\n",
              "      --fill-color: #1967D2;\n",
              "      --hover-bg-color: #E2EBFA;\n",
              "      --hover-fill-color: #174EA6;\n",
              "      --disabled-fill-color: #AAA;\n",
              "      --disabled-bg-color: #DDD;\n",
              "  }\n",
              "\n",
              "  [theme=dark] .colab-df-quickchart {\n",
              "      --bg-color: #3B4455;\n",
              "      --fill-color: #D2E3FC;\n",
              "      --hover-bg-color: #434B5C;\n",
              "      --hover-fill-color: #FFFFFF;\n",
              "      --disabled-bg-color: #3B4455;\n",
              "      --disabled-fill-color: #666;\n",
              "  }\n",
              "\n",
              "  .colab-df-quickchart {\n",
              "    background-color: var(--bg-color);\n",
              "    border: none;\n",
              "    border-radius: 50%;\n",
              "    cursor: pointer;\n",
              "    display: none;\n",
              "    fill: var(--fill-color);\n",
              "    height: 32px;\n",
              "    padding: 0;\n",
              "    width: 32px;\n",
              "  }\n",
              "\n",
              "  .colab-df-quickchart:hover {\n",
              "    background-color: var(--hover-bg-color);\n",
              "    box-shadow: 0 1px 2px rgba(60, 64, 67, 0.3), 0 1px 3px 1px rgba(60, 64, 67, 0.15);\n",
              "    fill: var(--button-hover-fill-color);\n",
              "  }\n",
              "\n",
              "  .colab-df-quickchart-complete:disabled,\n",
              "  .colab-df-quickchart-complete:disabled:hover {\n",
              "    background-color: var(--disabled-bg-color);\n",
              "    fill: var(--disabled-fill-color);\n",
              "    box-shadow: none;\n",
              "  }\n",
              "\n",
              "  .colab-df-spinner {\n",
              "    border: 2px solid var(--fill-color);\n",
              "    border-color: transparent;\n",
              "    border-bottom-color: var(--fill-color);\n",
              "    animation:\n",
              "      spin 1s steps(1) infinite;\n",
              "  }\n",
              "\n",
              "  @keyframes spin {\n",
              "    0% {\n",
              "      border-color: transparent;\n",
              "      border-bottom-color: var(--fill-color);\n",
              "      border-left-color: var(--fill-color);\n",
              "    }\n",
              "    20% {\n",
              "      border-color: transparent;\n",
              "      border-left-color: var(--fill-color);\n",
              "      border-top-color: var(--fill-color);\n",
              "    }\n",
              "    30% {\n",
              "      border-color: transparent;\n",
              "      border-left-color: var(--fill-color);\n",
              "      border-top-color: var(--fill-color);\n",
              "      border-right-color: var(--fill-color);\n",
              "    }\n",
              "    40% {\n",
              "      border-color: transparent;\n",
              "      border-right-color: var(--fill-color);\n",
              "      border-top-color: var(--fill-color);\n",
              "    }\n",
              "    60% {\n",
              "      border-color: transparent;\n",
              "      border-right-color: var(--fill-color);\n",
              "    }\n",
              "    80% {\n",
              "      border-color: transparent;\n",
              "      border-right-color: var(--fill-color);\n",
              "      border-bottom-color: var(--fill-color);\n",
              "    }\n",
              "    90% {\n",
              "      border-color: transparent;\n",
              "      border-bottom-color: var(--fill-color);\n",
              "    }\n",
              "  }\n",
              "</style>\n",
              "\n",
              "  <script>\n",
              "    async function quickchart(key) {\n",
              "      const quickchartButtonEl =\n",
              "        document.querySelector('#' + key + ' button');\n",
              "      quickchartButtonEl.disabled = true;  // To prevent multiple clicks.\n",
              "      quickchartButtonEl.classList.add('colab-df-spinner');\n",
              "      try {\n",
              "        const charts = await google.colab.kernel.invokeFunction(\n",
              "            'suggestCharts', [key], {});\n",
              "      } catch (error) {\n",
              "        console.error('Error during call to suggestCharts:', error);\n",
              "      }\n",
              "      quickchartButtonEl.classList.remove('colab-df-spinner');\n",
              "      quickchartButtonEl.classList.add('colab-df-quickchart-complete');\n",
              "    }\n",
              "    (() => {\n",
              "      let quickchartButtonEl =\n",
              "        document.querySelector('#df-d101f36d-ad67-41fe-8c27-3823cddfb09b button');\n",
              "      quickchartButtonEl.style.display =\n",
              "        google.colab.kernel.accessAllowed ? 'block' : 'none';\n",
              "    })();\n",
              "  </script>\n",
              "</div>\n",
              "    </div>\n",
              "  </div>\n"
            ]
          },
          "metadata": {},
          "execution_count": 4
        }
      ]
    },
    {
      "cell_type": "code",
      "source": [
        "df.tail()"
      ],
      "metadata": {
        "colab": {
          "base_uri": "https://localhost:8080/",
          "height": 238
        },
        "id": "OgOjfYdHcWil",
        "outputId": "b099f197-3d76-4490-aebd-e2fd4435faee"
      },
      "execution_count": 5,
      "outputs": [
        {
          "output_type": "execute_result",
          "data": {
            "text/plain": [
              "                  Open        High         Low       Close   Adj Close  \\\n",
              "Date                                                                     \n",
              "2022-12-23  379.649994  383.059998  378.029999  382.910004  378.706635   \n",
              "2022-12-27  382.790009  383.149994  379.649994  381.399994  377.213196   \n",
              "2022-12-28  381.329987  383.390015  376.420013  376.660004  372.525238   \n",
              "2022-12-29  379.630005  384.350006  379.079987  383.440002  379.230835   \n",
              "2022-12-30  380.640015  382.579987  378.429993  382.429993  378.231934   \n",
              "\n",
              "              Volume  \n",
              "Date                  \n",
              "2022-12-23  59857300  \n",
              "2022-12-27  51638200  \n",
              "2022-12-28  70911500  \n",
              "2022-12-29  66970900  \n",
              "2022-12-30  84022200  "
            ],
            "text/html": [
              "\n",
              "  <div id=\"df-5d8b60c5-b39f-4062-9e91-3c153d1dce19\" class=\"colab-df-container\">\n",
              "    <div>\n",
              "<style scoped>\n",
              "    .dataframe tbody tr th:only-of-type {\n",
              "        vertical-align: middle;\n",
              "    }\n",
              "\n",
              "    .dataframe tbody tr th {\n",
              "        vertical-align: top;\n",
              "    }\n",
              "\n",
              "    .dataframe thead th {\n",
              "        text-align: right;\n",
              "    }\n",
              "</style>\n",
              "<table border=\"1\" class=\"dataframe\">\n",
              "  <thead>\n",
              "    <tr style=\"text-align: right;\">\n",
              "      <th></th>\n",
              "      <th>Open</th>\n",
              "      <th>High</th>\n",
              "      <th>Low</th>\n",
              "      <th>Close</th>\n",
              "      <th>Adj Close</th>\n",
              "      <th>Volume</th>\n",
              "    </tr>\n",
              "    <tr>\n",
              "      <th>Date</th>\n",
              "      <th></th>\n",
              "      <th></th>\n",
              "      <th></th>\n",
              "      <th></th>\n",
              "      <th></th>\n",
              "      <th></th>\n",
              "    </tr>\n",
              "  </thead>\n",
              "  <tbody>\n",
              "    <tr>\n",
              "      <th>2022-12-23</th>\n",
              "      <td>379.649994</td>\n",
              "      <td>383.059998</td>\n",
              "      <td>378.029999</td>\n",
              "      <td>382.910004</td>\n",
              "      <td>378.706635</td>\n",
              "      <td>59857300</td>\n",
              "    </tr>\n",
              "    <tr>\n",
              "      <th>2022-12-27</th>\n",
              "      <td>382.790009</td>\n",
              "      <td>383.149994</td>\n",
              "      <td>379.649994</td>\n",
              "      <td>381.399994</td>\n",
              "      <td>377.213196</td>\n",
              "      <td>51638200</td>\n",
              "    </tr>\n",
              "    <tr>\n",
              "      <th>2022-12-28</th>\n",
              "      <td>381.329987</td>\n",
              "      <td>383.390015</td>\n",
              "      <td>376.420013</td>\n",
              "      <td>376.660004</td>\n",
              "      <td>372.525238</td>\n",
              "      <td>70911500</td>\n",
              "    </tr>\n",
              "    <tr>\n",
              "      <th>2022-12-29</th>\n",
              "      <td>379.630005</td>\n",
              "      <td>384.350006</td>\n",
              "      <td>379.079987</td>\n",
              "      <td>383.440002</td>\n",
              "      <td>379.230835</td>\n",
              "      <td>66970900</td>\n",
              "    </tr>\n",
              "    <tr>\n",
              "      <th>2022-12-30</th>\n",
              "      <td>380.640015</td>\n",
              "      <td>382.579987</td>\n",
              "      <td>378.429993</td>\n",
              "      <td>382.429993</td>\n",
              "      <td>378.231934</td>\n",
              "      <td>84022200</td>\n",
              "    </tr>\n",
              "  </tbody>\n",
              "</table>\n",
              "</div>\n",
              "    <div class=\"colab-df-buttons\">\n",
              "\n",
              "  <div class=\"colab-df-container\">\n",
              "    <button class=\"colab-df-convert\" onclick=\"convertToInteractive('df-5d8b60c5-b39f-4062-9e91-3c153d1dce19')\"\n",
              "            title=\"Convert this dataframe to an interactive table.\"\n",
              "            style=\"display:none;\">\n",
              "\n",
              "  <svg xmlns=\"http://www.w3.org/2000/svg\" height=\"24px\" viewBox=\"0 -960 960 960\">\n",
              "    <path d=\"M120-120v-720h720v720H120Zm60-500h600v-160H180v160Zm220 220h160v-160H400v160Zm0 220h160v-160H400v160ZM180-400h160v-160H180v160Zm440 0h160v-160H620v160ZM180-180h160v-160H180v160Zm440 0h160v-160H620v160Z\"/>\n",
              "  </svg>\n",
              "    </button>\n",
              "\n",
              "  <style>\n",
              "    .colab-df-container {\n",
              "      display:flex;\n",
              "      gap: 12px;\n",
              "    }\n",
              "\n",
              "    .colab-df-convert {\n",
              "      background-color: #E8F0FE;\n",
              "      border: none;\n",
              "      border-radius: 50%;\n",
              "      cursor: pointer;\n",
              "      display: none;\n",
              "      fill: #1967D2;\n",
              "      height: 32px;\n",
              "      padding: 0 0 0 0;\n",
              "      width: 32px;\n",
              "    }\n",
              "\n",
              "    .colab-df-convert:hover {\n",
              "      background-color: #E2EBFA;\n",
              "      box-shadow: 0px 1px 2px rgba(60, 64, 67, 0.3), 0px 1px 3px 1px rgba(60, 64, 67, 0.15);\n",
              "      fill: #174EA6;\n",
              "    }\n",
              "\n",
              "    .colab-df-buttons div {\n",
              "      margin-bottom: 4px;\n",
              "    }\n",
              "\n",
              "    [theme=dark] .colab-df-convert {\n",
              "      background-color: #3B4455;\n",
              "      fill: #D2E3FC;\n",
              "    }\n",
              "\n",
              "    [theme=dark] .colab-df-convert:hover {\n",
              "      background-color: #434B5C;\n",
              "      box-shadow: 0px 1px 3px 1px rgba(0, 0, 0, 0.15);\n",
              "      filter: drop-shadow(0px 1px 2px rgba(0, 0, 0, 0.3));\n",
              "      fill: #FFFFFF;\n",
              "    }\n",
              "  </style>\n",
              "\n",
              "    <script>\n",
              "      const buttonEl =\n",
              "        document.querySelector('#df-5d8b60c5-b39f-4062-9e91-3c153d1dce19 button.colab-df-convert');\n",
              "      buttonEl.style.display =\n",
              "        google.colab.kernel.accessAllowed ? 'block' : 'none';\n",
              "\n",
              "      async function convertToInteractive(key) {\n",
              "        const element = document.querySelector('#df-5d8b60c5-b39f-4062-9e91-3c153d1dce19');\n",
              "        const dataTable =\n",
              "          await google.colab.kernel.invokeFunction('convertToInteractive',\n",
              "                                                    [key], {});\n",
              "        if (!dataTable) return;\n",
              "\n",
              "        const docLinkHtml = 'Like what you see? Visit the ' +\n",
              "          '<a target=\"_blank\" href=https://colab.research.google.com/notebooks/data_table.ipynb>data table notebook</a>'\n",
              "          + ' to learn more about interactive tables.';\n",
              "        element.innerHTML = '';\n",
              "        dataTable['output_type'] = 'display_data';\n",
              "        await google.colab.output.renderOutput(dataTable, element);\n",
              "        const docLink = document.createElement('div');\n",
              "        docLink.innerHTML = docLinkHtml;\n",
              "        element.appendChild(docLink);\n",
              "      }\n",
              "    </script>\n",
              "  </div>\n",
              "\n",
              "\n",
              "<div id=\"df-cbca1b2f-3594-4928-a066-0eda7c3fb84b\">\n",
              "  <button class=\"colab-df-quickchart\" onclick=\"quickchart('df-cbca1b2f-3594-4928-a066-0eda7c3fb84b')\"\n",
              "            title=\"Suggest charts.\"\n",
              "            style=\"display:none;\">\n",
              "\n",
              "<svg xmlns=\"http://www.w3.org/2000/svg\" height=\"24px\"viewBox=\"0 0 24 24\"\n",
              "     width=\"24px\">\n",
              "    <g>\n",
              "        <path d=\"M19 3H5c-1.1 0-2 .9-2 2v14c0 1.1.9 2 2 2h14c1.1 0 2-.9 2-2V5c0-1.1-.9-2-2-2zM9 17H7v-7h2v7zm4 0h-2V7h2v10zm4 0h-2v-4h2v4z\"/>\n",
              "    </g>\n",
              "</svg>\n",
              "  </button>\n",
              "\n",
              "<style>\n",
              "  .colab-df-quickchart {\n",
              "      --bg-color: #E8F0FE;\n",
              "      --fill-color: #1967D2;\n",
              "      --hover-bg-color: #E2EBFA;\n",
              "      --hover-fill-color: #174EA6;\n",
              "      --disabled-fill-color: #AAA;\n",
              "      --disabled-bg-color: #DDD;\n",
              "  }\n",
              "\n",
              "  [theme=dark] .colab-df-quickchart {\n",
              "      --bg-color: #3B4455;\n",
              "      --fill-color: #D2E3FC;\n",
              "      --hover-bg-color: #434B5C;\n",
              "      --hover-fill-color: #FFFFFF;\n",
              "      --disabled-bg-color: #3B4455;\n",
              "      --disabled-fill-color: #666;\n",
              "  }\n",
              "\n",
              "  .colab-df-quickchart {\n",
              "    background-color: var(--bg-color);\n",
              "    border: none;\n",
              "    border-radius: 50%;\n",
              "    cursor: pointer;\n",
              "    display: none;\n",
              "    fill: var(--fill-color);\n",
              "    height: 32px;\n",
              "    padding: 0;\n",
              "    width: 32px;\n",
              "  }\n",
              "\n",
              "  .colab-df-quickchart:hover {\n",
              "    background-color: var(--hover-bg-color);\n",
              "    box-shadow: 0 1px 2px rgba(60, 64, 67, 0.3), 0 1px 3px 1px rgba(60, 64, 67, 0.15);\n",
              "    fill: var(--button-hover-fill-color);\n",
              "  }\n",
              "\n",
              "  .colab-df-quickchart-complete:disabled,\n",
              "  .colab-df-quickchart-complete:disabled:hover {\n",
              "    background-color: var(--disabled-bg-color);\n",
              "    fill: var(--disabled-fill-color);\n",
              "    box-shadow: none;\n",
              "  }\n",
              "\n",
              "  .colab-df-spinner {\n",
              "    border: 2px solid var(--fill-color);\n",
              "    border-color: transparent;\n",
              "    border-bottom-color: var(--fill-color);\n",
              "    animation:\n",
              "      spin 1s steps(1) infinite;\n",
              "  }\n",
              "\n",
              "  @keyframes spin {\n",
              "    0% {\n",
              "      border-color: transparent;\n",
              "      border-bottom-color: var(--fill-color);\n",
              "      border-left-color: var(--fill-color);\n",
              "    }\n",
              "    20% {\n",
              "      border-color: transparent;\n",
              "      border-left-color: var(--fill-color);\n",
              "      border-top-color: var(--fill-color);\n",
              "    }\n",
              "    30% {\n",
              "      border-color: transparent;\n",
              "      border-left-color: var(--fill-color);\n",
              "      border-top-color: var(--fill-color);\n",
              "      border-right-color: var(--fill-color);\n",
              "    }\n",
              "    40% {\n",
              "      border-color: transparent;\n",
              "      border-right-color: var(--fill-color);\n",
              "      border-top-color: var(--fill-color);\n",
              "    }\n",
              "    60% {\n",
              "      border-color: transparent;\n",
              "      border-right-color: var(--fill-color);\n",
              "    }\n",
              "    80% {\n",
              "      border-color: transparent;\n",
              "      border-right-color: var(--fill-color);\n",
              "      border-bottom-color: var(--fill-color);\n",
              "    }\n",
              "    90% {\n",
              "      border-color: transparent;\n",
              "      border-bottom-color: var(--fill-color);\n",
              "    }\n",
              "  }\n",
              "</style>\n",
              "\n",
              "  <script>\n",
              "    async function quickchart(key) {\n",
              "      const quickchartButtonEl =\n",
              "        document.querySelector('#' + key + ' button');\n",
              "      quickchartButtonEl.disabled = true;  // To prevent multiple clicks.\n",
              "      quickchartButtonEl.classList.add('colab-df-spinner');\n",
              "      try {\n",
              "        const charts = await google.colab.kernel.invokeFunction(\n",
              "            'suggestCharts', [key], {});\n",
              "      } catch (error) {\n",
              "        console.error('Error during call to suggestCharts:', error);\n",
              "      }\n",
              "      quickchartButtonEl.classList.remove('colab-df-spinner');\n",
              "      quickchartButtonEl.classList.add('colab-df-quickchart-complete');\n",
              "    }\n",
              "    (() => {\n",
              "      let quickchartButtonEl =\n",
              "        document.querySelector('#df-cbca1b2f-3594-4928-a066-0eda7c3fb84b button');\n",
              "      quickchartButtonEl.style.display =\n",
              "        google.colab.kernel.accessAllowed ? 'block' : 'none';\n",
              "    })();\n",
              "  </script>\n",
              "</div>\n",
              "    </div>\n",
              "  </div>\n"
            ]
          },
          "metadata": {},
          "execution_count": 5
        }
      ]
    },
    {
      "cell_type": "code",
      "source": [
        "df.info()"
      ],
      "metadata": {
        "colab": {
          "base_uri": "https://localhost:8080/"
        },
        "id": "6bRaGWcKiF5y",
        "outputId": "64f58515-b672-44c0-fc3a-f4b370a1f859"
      },
      "execution_count": 6,
      "outputs": [
        {
          "output_type": "stream",
          "name": "stdout",
          "text": [
            "<class 'pandas.core.frame.DataFrame'>\n",
            "DatetimeIndex: 2014 entries, 2015-01-02 to 2022-12-30\n",
            "Data columns (total 6 columns):\n",
            " #   Column     Non-Null Count  Dtype  \n",
            "---  ------     --------------  -----  \n",
            " 0   Open       2014 non-null   float64\n",
            " 1   High       2014 non-null   float64\n",
            " 2   Low        2014 non-null   float64\n",
            " 3   Close      2014 non-null   float64\n",
            " 4   Adj Close  2014 non-null   float64\n",
            " 5   Volume     2014 non-null   int64  \n",
            "dtypes: float64(5), int64(1)\n",
            "memory usage: 110.1 KB\n"
          ]
        }
      ]
    },
    {
      "cell_type": "code",
      "source": [
        "df.describe()"
      ],
      "metadata": {
        "colab": {
          "base_uri": "https://localhost:8080/",
          "height": 300
        },
        "id": "PnWz19zhiKQH",
        "outputId": "3aca2281-43c3-4a45-ced2-340e2be551c6"
      },
      "execution_count": 7,
      "outputs": [
        {
          "output_type": "execute_result",
          "data": {
            "text/plain": [
              "              Open         High          Low        Close    Adj Close  \\\n",
              "count  2014.000000  2014.000000  2014.000000  2014.000000  2014.000000   \n",
              "mean    297.732294   299.417815   295.867716   297.755636   277.662368   \n",
              "std      80.871703    81.471799    80.177458    80.853811    86.456464   \n",
              "min     182.339996   184.100006   181.020004   182.860001   159.456009   \n",
              "25%     226.322498   226.757500   225.507496   226.255001   201.462502   \n",
              "50%     279.395004   280.580002   277.994995   279.330002   257.639572   \n",
              "75%     367.944992   370.119995   364.459999   366.842506   354.430000   \n",
              "max     479.220001   479.980011   476.059998   477.709991   464.923309   \n",
              "\n",
              "             Volume  \n",
              "count  2.014000e+03  \n",
              "mean   9.187613e+07  \n",
              "std    4.765484e+07  \n",
              "min    2.027000e+07  \n",
              "25%    6.037552e+07  \n",
              "50%    7.905045e+07  \n",
              "75%    1.080564e+08  \n",
              "max    5.072443e+08  "
            ],
            "text/html": [
              "\n",
              "  <div id=\"df-dca505a9-0c02-4a36-b64d-c9cf79f713f5\" class=\"colab-df-container\">\n",
              "    <div>\n",
              "<style scoped>\n",
              "    .dataframe tbody tr th:only-of-type {\n",
              "        vertical-align: middle;\n",
              "    }\n",
              "\n",
              "    .dataframe tbody tr th {\n",
              "        vertical-align: top;\n",
              "    }\n",
              "\n",
              "    .dataframe thead th {\n",
              "        text-align: right;\n",
              "    }\n",
              "</style>\n",
              "<table border=\"1\" class=\"dataframe\">\n",
              "  <thead>\n",
              "    <tr style=\"text-align: right;\">\n",
              "      <th></th>\n",
              "      <th>Open</th>\n",
              "      <th>High</th>\n",
              "      <th>Low</th>\n",
              "      <th>Close</th>\n",
              "      <th>Adj Close</th>\n",
              "      <th>Volume</th>\n",
              "    </tr>\n",
              "  </thead>\n",
              "  <tbody>\n",
              "    <tr>\n",
              "      <th>count</th>\n",
              "      <td>2014.000000</td>\n",
              "      <td>2014.000000</td>\n",
              "      <td>2014.000000</td>\n",
              "      <td>2014.000000</td>\n",
              "      <td>2014.000000</td>\n",
              "      <td>2.014000e+03</td>\n",
              "    </tr>\n",
              "    <tr>\n",
              "      <th>mean</th>\n",
              "      <td>297.732294</td>\n",
              "      <td>299.417815</td>\n",
              "      <td>295.867716</td>\n",
              "      <td>297.755636</td>\n",
              "      <td>277.662368</td>\n",
              "      <td>9.187613e+07</td>\n",
              "    </tr>\n",
              "    <tr>\n",
              "      <th>std</th>\n",
              "      <td>80.871703</td>\n",
              "      <td>81.471799</td>\n",
              "      <td>80.177458</td>\n",
              "      <td>80.853811</td>\n",
              "      <td>86.456464</td>\n",
              "      <td>4.765484e+07</td>\n",
              "    </tr>\n",
              "    <tr>\n",
              "      <th>min</th>\n",
              "      <td>182.339996</td>\n",
              "      <td>184.100006</td>\n",
              "      <td>181.020004</td>\n",
              "      <td>182.860001</td>\n",
              "      <td>159.456009</td>\n",
              "      <td>2.027000e+07</td>\n",
              "    </tr>\n",
              "    <tr>\n",
              "      <th>25%</th>\n",
              "      <td>226.322498</td>\n",
              "      <td>226.757500</td>\n",
              "      <td>225.507496</td>\n",
              "      <td>226.255001</td>\n",
              "      <td>201.462502</td>\n",
              "      <td>6.037552e+07</td>\n",
              "    </tr>\n",
              "    <tr>\n",
              "      <th>50%</th>\n",
              "      <td>279.395004</td>\n",
              "      <td>280.580002</td>\n",
              "      <td>277.994995</td>\n",
              "      <td>279.330002</td>\n",
              "      <td>257.639572</td>\n",
              "      <td>7.905045e+07</td>\n",
              "    </tr>\n",
              "    <tr>\n",
              "      <th>75%</th>\n",
              "      <td>367.944992</td>\n",
              "      <td>370.119995</td>\n",
              "      <td>364.459999</td>\n",
              "      <td>366.842506</td>\n",
              "      <td>354.430000</td>\n",
              "      <td>1.080564e+08</td>\n",
              "    </tr>\n",
              "    <tr>\n",
              "      <th>max</th>\n",
              "      <td>479.220001</td>\n",
              "      <td>479.980011</td>\n",
              "      <td>476.059998</td>\n",
              "      <td>477.709991</td>\n",
              "      <td>464.923309</td>\n",
              "      <td>5.072443e+08</td>\n",
              "    </tr>\n",
              "  </tbody>\n",
              "</table>\n",
              "</div>\n",
              "    <div class=\"colab-df-buttons\">\n",
              "\n",
              "  <div class=\"colab-df-container\">\n",
              "    <button class=\"colab-df-convert\" onclick=\"convertToInteractive('df-dca505a9-0c02-4a36-b64d-c9cf79f713f5')\"\n",
              "            title=\"Convert this dataframe to an interactive table.\"\n",
              "            style=\"display:none;\">\n",
              "\n",
              "  <svg xmlns=\"http://www.w3.org/2000/svg\" height=\"24px\" viewBox=\"0 -960 960 960\">\n",
              "    <path d=\"M120-120v-720h720v720H120Zm60-500h600v-160H180v160Zm220 220h160v-160H400v160Zm0 220h160v-160H400v160ZM180-400h160v-160H180v160Zm440 0h160v-160H620v160ZM180-180h160v-160H180v160Zm440 0h160v-160H620v160Z\"/>\n",
              "  </svg>\n",
              "    </button>\n",
              "\n",
              "  <style>\n",
              "    .colab-df-container {\n",
              "      display:flex;\n",
              "      gap: 12px;\n",
              "    }\n",
              "\n",
              "    .colab-df-convert {\n",
              "      background-color: #E8F0FE;\n",
              "      border: none;\n",
              "      border-radius: 50%;\n",
              "      cursor: pointer;\n",
              "      display: none;\n",
              "      fill: #1967D2;\n",
              "      height: 32px;\n",
              "      padding: 0 0 0 0;\n",
              "      width: 32px;\n",
              "    }\n",
              "\n",
              "    .colab-df-convert:hover {\n",
              "      background-color: #E2EBFA;\n",
              "      box-shadow: 0px 1px 2px rgba(60, 64, 67, 0.3), 0px 1px 3px 1px rgba(60, 64, 67, 0.15);\n",
              "      fill: #174EA6;\n",
              "    }\n",
              "\n",
              "    .colab-df-buttons div {\n",
              "      margin-bottom: 4px;\n",
              "    }\n",
              "\n",
              "    [theme=dark] .colab-df-convert {\n",
              "      background-color: #3B4455;\n",
              "      fill: #D2E3FC;\n",
              "    }\n",
              "\n",
              "    [theme=dark] .colab-df-convert:hover {\n",
              "      background-color: #434B5C;\n",
              "      box-shadow: 0px 1px 3px 1px rgba(0, 0, 0, 0.15);\n",
              "      filter: drop-shadow(0px 1px 2px rgba(0, 0, 0, 0.3));\n",
              "      fill: #FFFFFF;\n",
              "    }\n",
              "  </style>\n",
              "\n",
              "    <script>\n",
              "      const buttonEl =\n",
              "        document.querySelector('#df-dca505a9-0c02-4a36-b64d-c9cf79f713f5 button.colab-df-convert');\n",
              "      buttonEl.style.display =\n",
              "        google.colab.kernel.accessAllowed ? 'block' : 'none';\n",
              "\n",
              "      async function convertToInteractive(key) {\n",
              "        const element = document.querySelector('#df-dca505a9-0c02-4a36-b64d-c9cf79f713f5');\n",
              "        const dataTable =\n",
              "          await google.colab.kernel.invokeFunction('convertToInteractive',\n",
              "                                                    [key], {});\n",
              "        if (!dataTable) return;\n",
              "\n",
              "        const docLinkHtml = 'Like what you see? Visit the ' +\n",
              "          '<a target=\"_blank\" href=https://colab.research.google.com/notebooks/data_table.ipynb>data table notebook</a>'\n",
              "          + ' to learn more about interactive tables.';\n",
              "        element.innerHTML = '';\n",
              "        dataTable['output_type'] = 'display_data';\n",
              "        await google.colab.output.renderOutput(dataTable, element);\n",
              "        const docLink = document.createElement('div');\n",
              "        docLink.innerHTML = docLinkHtml;\n",
              "        element.appendChild(docLink);\n",
              "      }\n",
              "    </script>\n",
              "  </div>\n",
              "\n",
              "\n",
              "<div id=\"df-f215326b-aa8a-4664-92e5-075bb3d5d921\">\n",
              "  <button class=\"colab-df-quickchart\" onclick=\"quickchart('df-f215326b-aa8a-4664-92e5-075bb3d5d921')\"\n",
              "            title=\"Suggest charts.\"\n",
              "            style=\"display:none;\">\n",
              "\n",
              "<svg xmlns=\"http://www.w3.org/2000/svg\" height=\"24px\"viewBox=\"0 0 24 24\"\n",
              "     width=\"24px\">\n",
              "    <g>\n",
              "        <path d=\"M19 3H5c-1.1 0-2 .9-2 2v14c0 1.1.9 2 2 2h14c1.1 0 2-.9 2-2V5c0-1.1-.9-2-2-2zM9 17H7v-7h2v7zm4 0h-2V7h2v10zm4 0h-2v-4h2v4z\"/>\n",
              "    </g>\n",
              "</svg>\n",
              "  </button>\n",
              "\n",
              "<style>\n",
              "  .colab-df-quickchart {\n",
              "      --bg-color: #E8F0FE;\n",
              "      --fill-color: #1967D2;\n",
              "      --hover-bg-color: #E2EBFA;\n",
              "      --hover-fill-color: #174EA6;\n",
              "      --disabled-fill-color: #AAA;\n",
              "      --disabled-bg-color: #DDD;\n",
              "  }\n",
              "\n",
              "  [theme=dark] .colab-df-quickchart {\n",
              "      --bg-color: #3B4455;\n",
              "      --fill-color: #D2E3FC;\n",
              "      --hover-bg-color: #434B5C;\n",
              "      --hover-fill-color: #FFFFFF;\n",
              "      --disabled-bg-color: #3B4455;\n",
              "      --disabled-fill-color: #666;\n",
              "  }\n",
              "\n",
              "  .colab-df-quickchart {\n",
              "    background-color: var(--bg-color);\n",
              "    border: none;\n",
              "    border-radius: 50%;\n",
              "    cursor: pointer;\n",
              "    display: none;\n",
              "    fill: var(--fill-color);\n",
              "    height: 32px;\n",
              "    padding: 0;\n",
              "    width: 32px;\n",
              "  }\n",
              "\n",
              "  .colab-df-quickchart:hover {\n",
              "    background-color: var(--hover-bg-color);\n",
              "    box-shadow: 0 1px 2px rgba(60, 64, 67, 0.3), 0 1px 3px 1px rgba(60, 64, 67, 0.15);\n",
              "    fill: var(--button-hover-fill-color);\n",
              "  }\n",
              "\n",
              "  .colab-df-quickchart-complete:disabled,\n",
              "  .colab-df-quickchart-complete:disabled:hover {\n",
              "    background-color: var(--disabled-bg-color);\n",
              "    fill: var(--disabled-fill-color);\n",
              "    box-shadow: none;\n",
              "  }\n",
              "\n",
              "  .colab-df-spinner {\n",
              "    border: 2px solid var(--fill-color);\n",
              "    border-color: transparent;\n",
              "    border-bottom-color: var(--fill-color);\n",
              "    animation:\n",
              "      spin 1s steps(1) infinite;\n",
              "  }\n",
              "\n",
              "  @keyframes spin {\n",
              "    0% {\n",
              "      border-color: transparent;\n",
              "      border-bottom-color: var(--fill-color);\n",
              "      border-left-color: var(--fill-color);\n",
              "    }\n",
              "    20% {\n",
              "      border-color: transparent;\n",
              "      border-left-color: var(--fill-color);\n",
              "      border-top-color: var(--fill-color);\n",
              "    }\n",
              "    30% {\n",
              "      border-color: transparent;\n",
              "      border-left-color: var(--fill-color);\n",
              "      border-top-color: var(--fill-color);\n",
              "      border-right-color: var(--fill-color);\n",
              "    }\n",
              "    40% {\n",
              "      border-color: transparent;\n",
              "      border-right-color: var(--fill-color);\n",
              "      border-top-color: var(--fill-color);\n",
              "    }\n",
              "    60% {\n",
              "      border-color: transparent;\n",
              "      border-right-color: var(--fill-color);\n",
              "    }\n",
              "    80% {\n",
              "      border-color: transparent;\n",
              "      border-right-color: var(--fill-color);\n",
              "      border-bottom-color: var(--fill-color);\n",
              "    }\n",
              "    90% {\n",
              "      border-color: transparent;\n",
              "      border-bottom-color: var(--fill-color);\n",
              "    }\n",
              "  }\n",
              "</style>\n",
              "\n",
              "  <script>\n",
              "    async function quickchart(key) {\n",
              "      const quickchartButtonEl =\n",
              "        document.querySelector('#' + key + ' button');\n",
              "      quickchartButtonEl.disabled = true;  // To prevent multiple clicks.\n",
              "      quickchartButtonEl.classList.add('colab-df-spinner');\n",
              "      try {\n",
              "        const charts = await google.colab.kernel.invokeFunction(\n",
              "            'suggestCharts', [key], {});\n",
              "      } catch (error) {\n",
              "        console.error('Error during call to suggestCharts:', error);\n",
              "      }\n",
              "      quickchartButtonEl.classList.remove('colab-df-spinner');\n",
              "      quickchartButtonEl.classList.add('colab-df-quickchart-complete');\n",
              "    }\n",
              "    (() => {\n",
              "      let quickchartButtonEl =\n",
              "        document.querySelector('#df-f215326b-aa8a-4664-92e5-075bb3d5d921 button');\n",
              "      quickchartButtonEl.style.display =\n",
              "        google.colab.kernel.accessAllowed ? 'block' : 'none';\n",
              "    })();\n",
              "  </script>\n",
              "</div>\n",
              "    </div>\n",
              "  </div>\n"
            ]
          },
          "metadata": {},
          "execution_count": 7
        }
      ]
    },
    {
      "cell_type": "code",
      "source": [
        "# Checking data types\n",
        "df.dtypes"
      ],
      "metadata": {
        "colab": {
          "base_uri": "https://localhost:8080/"
        },
        "id": "hGkXrDqXKUmz",
        "outputId": "1be99f3c-91ab-4d3b-dc09-545dbf4845ec"
      },
      "execution_count": 8,
      "outputs": [
        {
          "output_type": "execute_result",
          "data": {
            "text/plain": [
              "Open         float64\n",
              "High         float64\n",
              "Low          float64\n",
              "Close        float64\n",
              "Adj Close    float64\n",
              "Volume         int64\n",
              "dtype: object"
            ]
          },
          "metadata": {},
          "execution_count": 8
        }
      ]
    },
    {
      "cell_type": "code",
      "source": [
        "# Setting date columnn as a regular column\n",
        "df = df.reset_index()\n",
        "df = df.rename(columns={'index': 'Date'})"
      ],
      "metadata": {
        "id": "a9tTqQxbKY7H"
      },
      "execution_count": 9,
      "outputs": []
    },
    {
      "cell_type": "code",
      "source": [
        "df.dtypes"
      ],
      "metadata": {
        "colab": {
          "base_uri": "https://localhost:8080/"
        },
        "id": "xxOlkWlRKreP",
        "outputId": "0a579918-a4e0-4b2d-f268-fdcc73fb3c56"
      },
      "execution_count": 10,
      "outputs": [
        {
          "output_type": "execute_result",
          "data": {
            "text/plain": [
              "Date         datetime64[ns]\n",
              "Open                float64\n",
              "High                float64\n",
              "Low                 float64\n",
              "Close               float64\n",
              "Adj Close           float64\n",
              "Volume                int64\n",
              "dtype: object"
            ]
          },
          "metadata": {},
          "execution_count": 10
        }
      ]
    },
    {
      "cell_type": "markdown",
      "source": [
        "### Data Wrangling\n",
        "Cleaning the data for analysis"
      ],
      "metadata": {
        "id": "W_K1Ze78KUiY"
      }
    },
    {
      "cell_type": "code",
      "source": [
        "# Checking for null values\n",
        "null_values = df.isnull().sum()\n",
        "print(null_values)"
      ],
      "metadata": {
        "id": "YeC_C8X83BQr",
        "colab": {
          "base_uri": "https://localhost:8080/"
        },
        "outputId": "66808618-e60f-4bd4-e2b2-ae8848b2f3df"
      },
      "execution_count": 11,
      "outputs": [
        {
          "output_type": "stream",
          "name": "stdout",
          "text": [
            "Date         0\n",
            "Open         0\n",
            "High         0\n",
            "Low          0\n",
            "Close        0\n",
            "Adj Close    0\n",
            "Volume       0\n",
            "dtype: int64\n"
          ]
        }
      ]
    },
    {
      "cell_type": "code",
      "source": [
        "duplicate_rows = df[df.duplicated(keep=False)]\n",
        "print(duplicate_rows)"
      ],
      "metadata": {
        "id": "NerB9XV-iLYj",
        "colab": {
          "base_uri": "https://localhost:8080/"
        },
        "outputId": "9b16b7ab-b3d8-4396-8420-829b1c3d0f1e"
      },
      "execution_count": 12,
      "outputs": [
        {
          "output_type": "stream",
          "name": "stdout",
          "text": [
            "Empty DataFrame\n",
            "Columns: [Date, Open, High, Low, Close, Adj Close, Volume]\n",
            "Index: []\n"
          ]
        }
      ]
    },
    {
      "cell_type": "code",
      "source": [
        "# removing duplicate values\n",
        "df = df.drop_duplicates()"
      ],
      "metadata": {
        "id": "e8qRmQLt3BWb"
      },
      "execution_count": 13,
      "outputs": []
    },
    {
      "cell_type": "markdown",
      "source": [
        "### Creating the strategies"
      ],
      "metadata": {
        "id": "bnmAPVDqbVfk"
      }
    },
    {
      "cell_type": "code",
      "source": [
        "# Calculate the target variable 'Signal' for Strategy-1\n",
        "df['Signal'] = np.where(df['Close'].shift(-1) > df['Close'], 1, -1)"
      ],
      "metadata": {
        "id": "jUiU_93mbaR3"
      },
      "execution_count": 14,
      "outputs": []
    },
    {
      "cell_type": "code",
      "source": [
        "# Calculating the 50 day moving averages\n",
        "df[\"50MA\"] = df[\"Close\"].rolling(window=50).mean()"
      ],
      "metadata": {
        "id": "ag74ax0AcyoI"
      },
      "execution_count": 15,
      "outputs": []
    },
    {
      "cell_type": "code",
      "source": [
        "# Calculating the 200 day moving averages\n",
        "df[\"200MA\"] = df[\"Close\"].rolling(window=200).mean()"
      ],
      "metadata": {
        "id": "0XcqLqlRdCXV"
      },
      "execution_count": 16,
      "outputs": []
    },
    {
      "cell_type": "code",
      "source": [
        "# Creating a signal column based on moving averages crossovers\n",
        "df[\"Signal_MA\"] = np.where(df[\"50MA\"] > df[\"200MA\"], \"Buy\", \"Sell\")"
      ],
      "metadata": {
        "id": "oetRDlKvdKSa"
      },
      "execution_count": 17,
      "outputs": []
    },
    {
      "cell_type": "markdown",
      "source": [
        "### Data Visualization\n"
      ],
      "metadata": {
        "id": "tgU87YAdVfOW"
      }
    },
    {
      "cell_type": "code",
      "source": [
        "# Plotting SPY historical closing price\n",
        "plt.figure(figsize=(12, 6))\n",
        "plt.plot(df['Date'], df['Close'], label='Close Price')\n",
        "plt.title('SPY Close Price Over Time')\n",
        "plt.xlabel('Date')\n",
        "plt.ylabel('Close Price')\n",
        "plt.legend()\n",
        "plt.show()"
      ],
      "metadata": {
        "colab": {
          "base_uri": "https://localhost:8080/",
          "height": 564
        },
        "id": "mxiyPHTmVNAi",
        "outputId": "97a6a3e4-8e51-4d2f-e039-8ee949e16ef4"
      },
      "execution_count": 18,
      "outputs": [
        {
          "output_type": "display_data",
          "data": {
            "text/plain": [
              "<Figure size 1200x600 with 1 Axes>"
            ],
            "image/png": "[encoded data removed]"
          },
          "metadata": {}
        }
      ]
    },
    {
      "cell_type": "code",
      "source": [
        "# Plotting the signal on SPY historical price chart\n",
        "fig, ax = plt.subplots(figsize=(12, 6))\n",
        "\n",
        "# Plot the closing price\n",
        "ax.plot(df['Date'], df['Close'], label='Close Price', alpha=0.8)\n",
        "\n",
        "# Plot buy signals in green and sell signals in red for Strategy-1\n",
        "buy_signals = df[df['Signal'] == 'Buy']\n",
        "sell_signals = df[df['Signal'] == 'Sell']\n",
        "ax.scatter(buy_signals['Date'], buy_signals['Close'], color='green', label='Buy Signal', marker='^', alpha=1)\n",
        "ax.scatter(sell_signals['Date'], sell_signals['Close'], color='red', label='Sell Signal', marker='v', alpha=1)\n",
        "\n",
        "# Plot buy signals in blue and sell signals in orange for Strategy-2\n",
        "buy_signals_ma = df[df['Signal_MA'] == 'Buy']\n",
        "sell_signals_ma = df[df['Signal_MA'] == 'Sell']\n",
        "ax.scatter(buy_signals_ma['Date'], buy_signals_ma['Close'], color='green', label='Buy Signal (MA)', marker='o', alpha=1)\n",
        "ax.scatter(sell_signals_ma['Date'], sell_signals_ma['Close'], color='red', label='Sell Signal (MA)', marker='o', alpha=1)\n",
        "\n",
        "# Set plot labels and title\n",
        "ax.set_xlabel('Date')\n",
        "ax.set_ylabel('Close Price')\n",
        "ax.set_title('Trading Signals and Close Price')\n",
        "ax.legend()\n",
        "plt.show()\n"
      ],
      "metadata": {
        "colab": {
          "base_uri": "https://localhost:8080/",
          "height": 564
        },
        "id": "oHnqXupofIxO",
        "outputId": "870bcf4f-ef31-4fad-d61c-030ae8258605"
      },
      "execution_count": 19,
      "outputs": [
        {
          "output_type": "display_data",
          "data": {
            "text/plain": [
              "<Figure size 1200x600 with 1 Axes>"
            ],
            "image/png": "[encoded data removed]"
          },
          "metadata": {}
        }
      ]
    },
    {
      "cell_type": "code",
      "source": [
        "# Plotting the MA on SPY chart\n",
        "plt.figure(figsize=(12, 6))\n",
        "sns.lineplot(x=df.index, y=df['Close'], label='Close Price', color='green')\n",
        "sns.lineplot(x=df.index, y=df['50MA'], label='50-day MA', color='blue')\n",
        "sns.lineplot(x=df.index, y=df['200MA'], label='200-day MA', color='red')\n",
        "\n",
        "plt.xlabel('Date')\n",
        "plt.ylabel('Price')\n",
        "plt.title('Closing Prices and Moving Averages')\n",
        "plt.legend()\n",
        "plt.show()"
      ],
      "metadata": {
        "id": "tfVUxD2Sgl9e",
        "colab": {
          "base_uri": "https://localhost:8080/",
          "height": 564
        },
        "outputId": "2ba77e1c-e8bc-45af-91fd-88aa990240ff"
      },
      "execution_count": 20,
      "outputs": [
        {
          "output_type": "display_data",
          "data": {
            "text/plain": [
              "<Figure size 1200x600 with 1 Axes>"
            ],
            "image/png": "[encoded data removed]"
          },
          "metadata": {}
        }
      ]
    },
    {
      "cell_type": "markdown",
      "source": [
        "### Implementing machine learning models"
      ],
      "metadata": {
        "id": "hvupGeJ5oQk2"
      }
    },
    {
      "cell_type": "code",
      "source": [
        "# Creating feature variables\n",
        "feature_columns = ['Open', 'High', 'Low', 'Close', 'Adj Close', 'Volume']\n",
        "\n",
        "# Creating a new df with feature variables\n",
        "X = df[feature_columns]\n",
        "\n",
        "# Setting the target variables\n",
        "y = df[\"Signal\"]"
      ],
      "metadata": {
        "id": "R0Q24dNuTUFm"
      },
      "execution_count": 21,
      "outputs": []
    },
    {
      "cell_type": "code",
      "source": [
        "# Standardizing the data\n",
        "scaler = StandardScaler()\n",
        "\n",
        "# Fit and transform the feature variables\n",
        "X = scaler.fit_transform(X)"
      ],
      "metadata": {
        "id": "DiTRDYbs07wu"
      },
      "execution_count": 22,
      "outputs": []
    },
    {
      "cell_type": "code",
      "source": [
        "# Split the data into training and test sets using 80/20 percent ratio (80% train, 20% test)\n",
        "X_train, X_test, y_train, y_test = train_test_split(X, y, test_size=0.2, random_state=42)"
      ],
      "metadata": {
        "id": "LBI_mbbD1ElC"
      },
      "execution_count": 23,
      "outputs": []
    },
    {
      "cell_type": "code",
      "source": [
        "# Applying KNN classifier\n",
        "knn_classifier = KNeighborsClassifier(n_neighbors=10)\n",
        "\n",
        "# Fit the classifier to the training data\n",
        "knn_classifier.fit(X_train, y_train)\n",
        "\n",
        "# Make predictions on the test data\n",
        "y_predict_knn = knn_classifier.predict(X_test)\n",
        "\n",
        "# Evaluate\n",
        "accuracy_knn = accuracy_score(y_test, y_predict_knn)\n",
        "print(\"K-Nearest Neighbors Classifier:\")\n",
        "print(f\"Accuracy: {accuracy_knn:.2f}\")\n",
        "print(classification_report(y_test, y_predict_knn))\n",
        "print(confusion_matrix(y_test, y_predict_knn))"
      ],
      "metadata": {
        "colab": {
          "base_uri": "https://localhost:8080/"
        },
        "id": "0evosO2c2QkB",
        "outputId": "d7dc9338-a526-432c-c096-9df4c560c37b"
      },
      "execution_count": 24,
      "outputs": [
        {
          "output_type": "stream",
          "name": "stdout",
          "text": [
            "K-Nearest Neighbors Classifier:\n",
            "Accuracy: 0.47\n",
            "              precision    recall  f1-score   support\n",
            "\n",
            "          -1       0.46      0.46      0.46       197\n",
            "           1       0.48      0.48      0.48       206\n",
            "\n",
            "    accuracy                           0.47       403\n",
            "   macro avg       0.47      0.47      0.47       403\n",
            "weighted avg       0.47      0.47      0.47       403\n",
            "\n",
            "[[ 90 107]\n",
            " [107  99]]\n"
          ]
        }
      ]
    },
    {
      "cell_type": "code",
      "source": [
        "# Applying Random Forest classifier\n",
        "rf_classifier = RandomForestClassifier()\n",
        "\n",
        "# Fit the classifier to the training data\n",
        "rf_classifier.fit(X_train, y_train)\n",
        "\n",
        "# Make predictions on the test data\n",
        "y_predict_rf = rf_classifier.predict(X_test)\n",
        "\n",
        "# Evaluate\n",
        "accuracy_rf = accuracy_score(y_test, y_predict_rf)\n",
        "print(\"Random Forest Classifier:\")\n",
        "print(f\"Accuracy: {accuracy_rf:.2f}\")\n",
        "print(classification_report(y_test, y_predict_rf))\n",
        "print(confusion_matrix(y_test, y_predict_rf))\n"
      ],
      "metadata": {
        "colab": {
          "base_uri": "https://localhost:8080/"
        },
        "id": "Z7YMzbUF9_N_",
        "outputId": "1987f3c3-ba53-4ec3-a1c0-109d62578ec4"
      },
      "execution_count": 25,
      "outputs": [
        {
          "output_type": "stream",
          "name": "stdout",
          "text": [
            "Random Forest Classifier:\n",
            "Accuracy: 0.47\n",
            "              precision    recall  f1-score   support\n",
            "\n",
            "          -1       0.44      0.34      0.38       197\n",
            "           1       0.48      0.60      0.53       206\n",
            "\n",
            "    accuracy                           0.47       403\n",
            "   macro avg       0.46      0.47      0.46       403\n",
            "weighted avg       0.46      0.47      0.46       403\n",
            "\n",
            "[[ 66 131]\n",
            " [ 83 123]]\n"
          ]
        }
      ]
    },
    {
      "cell_type": "code",
      "source": [
        "# Applying Gradient Boosting classifier\n",
        "gb_classifier = GradientBoostingClassifier()\n",
        "\n",
        "# Fit the classifier to the training data\n",
        "gb_classifier.fit(X_train, y_train)\n",
        "\n",
        "# Make predictions on the test data\n",
        "y_predict_gb = gb_classifier.predict(X_test)\n",
        "\n",
        "# Evaluate\n",
        "accuracy_gb = accuracy_score(y_test, y_predict_gb)\n",
        "print(\"Gradient Boosting Classifier:\")\n",
        "print(f\"Accuracy: {accuracy_gb:.2f}\")\n",
        "print(classification_report(y_test, y_predict_gb))\n",
        "print(confusion_matrix(y_test, y_predict_gb))\n"
      ],
      "metadata": {
        "colab": {
          "base_uri": "https://localhost:8080/"
        },
        "id": "6B2yMVS5-Cv-",
        "outputId": "5e5c39b6-dc83-46e9-b88a-58afb469b577"
      },
      "execution_count": 26,
      "outputs": [
        {
          "output_type": "stream",
          "name": "stdout",
          "text": [
            "Gradient Boosting Classifier:\n",
            "Accuracy: 0.47\n",
            "              precision    recall  f1-score   support\n",
            "\n",
            "          -1       0.43      0.23      0.30       197\n",
            "           1       0.49      0.70      0.58       206\n",
            "\n",
            "    accuracy                           0.47       403\n",
            "   macro avg       0.46      0.47      0.44       403\n",
            "weighted avg       0.46      0.47      0.44       403\n",
            "\n",
            "[[ 46 151]\n",
            " [ 61 145]]\n"
          ]
        }
      ]
    },
    {
      "cell_type": "code",
      "source": [
        "# Applying SVM classifier with linear kernel\n",
        "svm_classifier = SVC(kernel='linear')\n",
        "\n",
        "# Fit the classifier to the training data\n",
        "svm_classifier.fit(X_train, y_train)\n",
        "\n",
        "# Make predictions on the test data\n",
        "y_predict_svm = svm_classifier.predict(X_test)\n",
        "\n",
        "# Evaluate\n",
        "accuracy_svm = accuracy_score(y_test, y_predict_svm)\n",
        "print(\"Support Vector Machines (SVM) Classifier:\")\n",
        "print(f\"Accuracy: {accuracy_svm:.2f}\")\n",
        "print(classification_report(y_test, y_predict_svm))\n",
        "print(confusion_matrix(y_test, y_predict_svm))"
      ],
      "metadata": {
        "colab": {
          "base_uri": "https://localhost:8080/"
        },
        "id": "eoVumfsh-Fb0",
        "outputId": "31e5b4bf-805b-4078-8da4-8c6a916e9b3d"
      },
      "execution_count": 27,
      "outputs": [
        {
          "output_type": "stream",
          "name": "stdout",
          "text": [
            "Support Vector Machines (SVM) Classifier:\n",
            "Accuracy: 0.51\n",
            "              precision    recall  f1-score   support\n",
            "\n",
            "          -1       0.00      0.00      0.00       197\n",
            "           1       0.51      1.00      0.68       206\n",
            "\n",
            "    accuracy                           0.51       403\n",
            "   macro avg       0.26      0.50      0.34       403\n",
            "weighted avg       0.26      0.51      0.35       403\n",
            "\n",
            "[[  0 197]\n",
            " [  0 206]]\n"
          ]
        },
        {
          "output_type": "stream",
          "name": "stderr",
          "text": [
            "/usr/local/lib/python3.10/dist-packages/sklearn/metrics/_classification.py:1344: UndefinedMetricWarning: Precision and F-score are ill-defined and being set to 0.0 in labels with no predicted samples. Use `zero_division` parameter to control this behavior.\n",
            "  _warn_prf(average, modifier, msg_start, len(result))\n",
            "/usr/local/lib/python3.10/dist-packages/sklearn/metrics/_classification.py:1344: UndefinedMetricWarning: Precision and F-score are ill-defined and being set to 0.0 in labels with no predicted samples. Use `zero_division` parameter to control this behavior.\n",
            "  _warn_prf(average, modifier, msg_start, len(result))\n",
            "/usr/local/lib/python3.10/dist-packages/sklearn/metrics/_classification.py:1344: UndefinedMetricWarning: Precision and F-score are ill-defined and being set to 0.0 in labels with no predicted samples. Use `zero_division` parameter to control this behavior.\n",
            "  _warn_prf(average, modifier, msg_start, len(result))\n"
          ]
        }
      ]
    },
    {
      "cell_type": "code",
      "source": [
        "# Map -1 to 0 and 1 to 1 in the target variable 'y' as xgboost expect binary class labels\n",
        "y_train_mapped = y_train.map({-1: 0, 1: 1})\n",
        "y_test_mapped = y_test.map({-1: 0, 1: 1})\n",
        "\n",
        "# Applying XGBoost classifier\n",
        "xgb_classifier = XGBClassifier()\n",
        "\n",
        "# Fit the classifier to the training data with the mapped labels\n",
        "xgb_classifier.fit(X_train, y_train_mapped)\n",
        "\n",
        "# Make predictions on the test data\n",
        "y_predict_xgb = xgb_classifier.predict(X_test)\n",
        "\n",
        "# Evaluate\n",
        "accuracy_xgb = accuracy_score(y_test_mapped, y_predict_xgb)\n",
        "print(\"XGBoost Classifier:\")\n",
        "print(f\"Accuracy: {accuracy_xgb:.2f}\")\n",
        "print(classification_report(y_test_mapped, y_predict_xgb))\n",
        "print(confusion_matrix(y_test_mapped, y_predict_xgb))\n"
      ],
      "metadata": {
        "colab": {
          "base_uri": "https://localhost:8080/"
        },
        "id": "UlZM5lYv-vQI",
        "outputId": "4afe0dbc-8156-4d29-e227-60e54db6b38f"
      },
      "execution_count": 28,
      "outputs": [
        {
          "output_type": "stream",
          "name": "stdout",
          "text": [
            "XGBoost Classifier:\n",
            "Accuracy: 0.48\n",
            "              precision    recall  f1-score   support\n",
            "\n",
            "           0       0.46      0.36      0.41       197\n",
            "           1       0.50      0.60      0.54       206\n",
            "\n",
            "    accuracy                           0.48       403\n",
            "   macro avg       0.48      0.48      0.47       403\n",
            "weighted avg       0.48      0.48      0.48       403\n",
            "\n",
            "[[ 71 126]\n",
            " [ 82 124]]\n"
          ]
        }
      ]
    },
    {
      "cell_type": "markdown",
      "source": [
        "### Extra Credit\n",
        "Tuning a classifier"
      ],
      "metadata": {
        "id": "F5UZchgbBl_T"
      }
    },
    {
      "cell_type": "code",
      "source": [
        "from sklearn.model_selection import GridSearchCV\n",
        "\n",
        "# Applying the KNN classifier\n",
        "knn_classifier = KNeighborsClassifier()\n",
        "\n",
        "# Tuning the parameters\n",
        "parameters = {\n",
        "    'n_neighbors': [2, 4, 6, 8],\n",
        "    'weights': ['uniform', 'distance'],\n",
        "    'p': [6, 8],\n",
        "}\n",
        "\n",
        "# Create a GridSearchCV object\n",
        "grid_search_knn = GridSearchCV(estimator=knn_classifier, param_grid=parameters, cv=5, scoring='accuracy')\n",
        "\n",
        "# Fit the grid to training data\n",
        "grid_search_knn.fit(X_train, y_train)\n",
        "\n",
        "# Getting the best hyperparameters\n",
        "best_params_knn = grid_search_knn.best_params_\n",
        "print(\"Best Hyperparameters for KNN:\", best_params_knn)\n",
        "\n",
        "# Training the KNN classifier with the best hyperparameters\n",
        "best_knn_classifier = KNeighborsClassifier(**best_params_knn)\n",
        "best_knn_classifier.fit(X_train, y_train)\n",
        "\n",
        "# Prediction on the test data\n",
        "y_pred_knn = best_knn_classifier.predict(X_test)\n",
        "\n",
        "# Evaluate the tuned KNN classifier\n",
        "accuracy_knn = accuracy_score(y_test, y_pred_knn)\n",
        "print(\"Tuned K-Nearest Neighbors (KNN) Classifier:\")\n",
        "print(f\"Accuracy: {accuracy_knn:.2f}\")\n"
      ],
      "metadata": {
        "colab": {
          "base_uri": "https://localhost:8080/"
        },
        "id": "w2eHinZkF12G",
        "outputId": "8c8e20aa-44a9-4a75-a50f-27b9b89d1dc7"
      },
      "execution_count": 29,
      "outputs": [
        {
          "output_type": "stream",
          "name": "stdout",
          "text": [
            "Best Hyperparameters for KNN: {'n_neighbors': 4, 'p': 8, 'weights': 'distance'}\n",
            "Tuned K-Nearest Neighbors (KNN) Classifier:\n",
            "Accuracy: 0.47\n"
          ]
        }
      ]
    },
    {
      "cell_type": "code",
      "source": [],
      "metadata": {
        "id": "kC-NVlgbIYOf"
      },
      "execution_count": 29,
      "outputs": []
    }
  ]
}